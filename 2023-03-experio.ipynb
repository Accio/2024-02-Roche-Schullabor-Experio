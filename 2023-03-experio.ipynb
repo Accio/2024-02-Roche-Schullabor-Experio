{
 "cells": [
  {
   "cell_type": "markdown",
   "id": "f254a0e9-124e-4117-9bb9-64b2b110274b",
   "metadata": {},
   "source": [
    "# Experio"
   ]
  },
  {
   "cell_type": "markdown",
   "id": "e8fbfb14-1a9a-4752-b0fb-a39c5bbc975d",
   "metadata": {},
   "source": [
    "## Aufgabe 1: DNA, RNA, Protein"
   ]
  },
  {
   "cell_type": "code",
   "execution_count": 1,
   "id": "58611f65-123f-4aae-8b79-246ae5a8e130",
   "metadata": {},
   "outputs": [
    {
     "name": "stdout",
     "output_type": "stream",
     "text": [
      "AUG\n"
     ]
    }
   ],
   "source": [
    "dna = 'ATG'\n",
    "rna = dna.replace('T', 'U')\n",
    "print(rna)"
   ]
  },
  {
   "cell_type": "code",
   "execution_count": 2,
   "id": "2c64c233-affe-48c8-933d-97954b7a9f72",
   "metadata": {},
   "outputs": [
    {
     "name": "stdout",
     "output_type": "stream",
     "text": [
      "AUGUUUAGGUGU\n"
     ]
    }
   ],
   "source": [
    "dna2 = 'ATGTTTAGGTGT'\n",
    "rna2 = dna2.replace('T', 'U')\n",
    "print(rna2)"
   ]
  },
  {
   "cell_type": "code",
   "execution_count": 8,
   "id": "93dfead0-c4e8-4d5d-a545-c88cb34997b0",
   "metadata": {},
   "outputs": [
    {
     "name": "stdout",
     "output_type": "stream",
     "text": [
      "['AUG', 'AGC', 'AGG', 'GAC', 'UGA']\n"
     ]
    }
   ],
   "source": [
    "dna_liste = ['ATG', 'AGC', 'AGG', 'GAC', 'TGA']\n",
    "rna_liste = []\n",
    "for dna in dna_liste:\n",
    "    rna = dna.replace('T', 'U')\n",
    "    rna_liste.append(rna)\n",
    "    \n",
    "print(rna_liste)"
   ]
  },
  {
   "cell_type": "code",
   "execution_count": 9,
   "id": "ad420d3c-ec7a-415f-bb6b-a97ce782a181",
   "metadata": {},
   "outputs": [
    {
     "name": "stdout",
     "output_type": "stream",
     "text": [
      "MSAD*\n"
     ]
    }
   ],
   "source": [
    "codes = {'AGC': 'S',\n",
    "         'AGG': 'A',\n",
    "         'AUG': 'M',\n",
    "         'GAC': 'D',\n",
    "         'UGA': '*'}\n",
    "eiweiss = ''\n",
    "for rna in rna_liste:\n",
    "    aa = codes[rna]\n",
    "    eiweiss = eiweiss + aa\n",
    "print(eiweiss)"
   ]
  },
  {
   "cell_type": "code",
   "execution_count": 10,
   "id": "b1c82de9-58ca-4d18-8259-38d915a05678",
   "metadata": {},
   "outputs": [
    {
     "name": "stdout",
     "output_type": "stream",
     "text": [
      "['AUG', 'AGC', 'AGC', 'GAC', 'UGA']\n"
     ]
    }
   ],
   "source": [
    "patient_dna_liste = ['ATG', 'AGC', 'AGC', 'GAC', 'TGA']\n",
    "patient_rna_liste = []\n",
    "for patient_dna in patient_dna_liste:\n",
    "    patient_rna = patient_dna.replace('T', 'U')\n",
    "    patient_rna_liste.append(patient_rna)\n",
    "\n",
    "print(patient_rna_liste)"
   ]
  },
  {
   "cell_type": "code",
   "execution_count": 11,
   "id": "79ac6d76-47ec-4da2-8373-1d669599994b",
   "metadata": {},
   "outputs": [
    {
     "name": "stdout",
     "output_type": "stream",
     "text": [
      "MSSD*\n"
     ]
    }
   ],
   "source": [
    "patient_eiweiss = ''\n",
    "for patient_rna in patient_rna_liste:\n",
    "    patient_aa = codes[patient_rna]\n",
    "    patient_eiweiss = patient_eiweiss + patient_aa\n",
    "print(patient_eiweiss)"
   ]
  }
 ],
 "metadata": {
  "kernelspec": {
   "display_name": "Python 3 (ipykernel)",
   "language": "python",
   "name": "python3"
  },
  "language_info": {
   "codemirror_mode": {
    "name": "ipython",
    "version": 3
   },
   "file_extension": ".py",
   "mimetype": "text/x-python",
   "name": "python",
   "nbconvert_exporter": "python",
   "pygments_lexer": "ipython3",
   "version": "3.11.3"
  }
 },
 "nbformat": 4,
 "nbformat_minor": 5
}
