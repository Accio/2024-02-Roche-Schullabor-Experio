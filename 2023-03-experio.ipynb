{
 "cells": [
  {
   "cell_type": "markdown",
   "id": "f254a0e9-124e-4117-9bb9-64b2b110274b",
   "metadata": {},
   "source": [
    "# Experio"
   ]
  },
  {
   "cell_type": "markdown",
   "id": "e8fbfb14-1a9a-4752-b0fb-a39c5bbc975d",
   "metadata": {},
   "source": [
    "## Aufgabe 1: DNA, RNA, Protein"
   ]
  },
  {
   "cell_type": "code",
   "execution_count": 1,
   "id": "58611f65-123f-4aae-8b79-246ae5a8e130",
   "metadata": {},
   "outputs": [
    {
     "name": "stdout",
     "output_type": "stream",
     "text": [
      "AUG\n"
     ]
    }
   ],
   "source": [
    "dna = 'ATG'\n",
    "rna = dna.replace('T', 'U')\n",
    "print(rna)"
   ]
  },
  {
   "cell_type": "code",
   "execution_count": 2,
   "id": "2c64c233-affe-48c8-933d-97954b7a9f72",
   "metadata": {},
   "outputs": [
    {
     "name": "stdout",
     "output_type": "stream",
     "text": [
      "AUGUUUAGGUGU\n"
     ]
    }
   ],
   "source": [
    "dna2 = 'ATGTTTAGGTGT'\n",
    "rna2 = dna2.replace('T', 'U')\n",
    "print(rna2)"
   ]
  },
  {
   "cell_type": "code",
   "execution_count": 8,
   "id": "93dfead0-c4e8-4d5d-a545-c88cb34997b0",
   "metadata": {},
   "outputs": [
    {
     "name": "stdout",
     "output_type": "stream",
     "text": [
      "['AUG', 'AGC', 'AGG', 'GAC', 'UGA']\n"
     ]
    }
   ],
   "source": [
    "dna_liste = ['ATG', 'AGC', 'AGG', 'GAC', 'TGA']\n",
    "rna_liste = []\n",
    "for dna in dna_liste:\n",
    "    rna = dna.replace('T', 'U')\n",
    "    rna_liste.append(rna)\n",
    "    \n",
    "print(rna_liste)"
   ]
  },
  {
   "cell_type": "code",
   "execution_count": 9,
   "id": "ad420d3c-ec7a-415f-bb6b-a97ce782a181",
   "metadata": {},
   "outputs": [
    {
     "name": "stdout",
     "output_type": "stream",
     "text": [
      "MSAD*\n"
     ]
    }
   ],
   "source": [
    "codes = {'AGC': 'S',\n",
    "         'AGG': 'A',\n",
    "         'AUG': 'M',\n",
    "         'GAC': 'D',\n",
    "         'UGA': '*'}\n",
    "eiweiss = ''\n",
    "for rna in rna_liste:\n",
    "    aa = codes[rna]\n",
    "    eiweiss = eiweiss + aa\n",
    "print(eiweiss)"
   ]
  },
  {
   "cell_type": "code",
   "execution_count": 10,
   "id": "b1c82de9-58ca-4d18-8259-38d915a05678",
   "metadata": {},
   "outputs": [
    {
     "name": "stdout",
     "output_type": "stream",
     "text": [
      "['AUG', 'AGC', 'AGC', 'GAC', 'UGA']\n"
     ]
    }
   ],
   "source": [
    "patient_dna_liste = ['ATG', 'AGC', 'AGC', 'GAC', 'TGA']\n",
    "patient_rna_liste = []\n",
    "for patient_dna in patient_dna_liste:\n",
    "    patient_rna = patient_dna.replace('T', 'U')\n",
    "    patient_rna_liste.append(patient_rna)\n",
    "\n",
    "print(patient_rna_liste)"
   ]
  },
  {
   "cell_type": "code",
   "execution_count": 11,
   "id": "79ac6d76-47ec-4da2-8373-1d669599994b",
   "metadata": {},
   "outputs": [
    {
     "name": "stdout",
     "output_type": "stream",
     "text": [
      "MSSD*\n"
     ]
    }
   ],
   "source": [
    "patient_eiweiss = ''\n",
    "for patient_rna in patient_rna_liste:\n",
    "    patient_aa = codes[patient_rna]\n",
    "    patient_eiweiss = patient_eiweiss + patient_aa\n",
    "print(patient_eiweiss)"
   ]
  },
  {
   "cell_type": "markdown",
   "id": "08a976f2-4f6a-41e1-b6c6-69b8fdd8a0ec",
   "metadata": {},
   "source": [
    "## Aufgabe 2: Studie"
   ]
  },
  {
   "cell_type": "code",
   "execution_count": 23,
   "id": "751ad804-3b72-452a-9cf8-af0893476264",
   "metadata": {},
   "outputs": [],
   "source": [
    "gruppe = ['K', 'K', 'K', 'K', 'V1', 'V1', 'V1', 'V1', 'V2', 'V2', 'V2', 'V2']\n",
    "vor = [8, 9, 8, 7, 6, 8, 8, 7, 8, 9, 8, 7]\n",
    "nach = [8, 8, 7, 8, 5, 6, 8, 8, 4, 5, 3, 4]"
   ]
  },
  {
   "cell_type": "code",
   "execution_count": 12,
   "id": "ca51bd3e-0a40-40b2-8d18-39811c57c7fd",
   "metadata": {},
   "outputs": [],
   "source": [
    "import pandas as pd"
   ]
  },
  {
   "cell_type": "code",
   "execution_count": 24,
   "id": "9551c248-12fa-4d89-84a0-1ac08a04130d",
   "metadata": {},
   "outputs": [
    {
     "name": "stdout",
     "output_type": "stream",
     "text": [
      "   Gruppe  Vor  Nach\n",
      "0       K    8     8\n",
      "1       K    9     8\n",
      "2       K    8     7\n",
      "3       K    7     8\n",
      "4      V1    6     5\n",
      "5      V1    8     6\n",
      "6      V1    8     8\n",
      "7      V1    7     8\n",
      "8      V2    8     4\n",
      "9      V2    9     5\n",
      "10     V2    8     3\n",
      "11     V2    7     4\n"
     ]
    }
   ],
   "source": [
    "studie = pd.DataFrame({'Gruppe': gruppe, 'Vor': vor, 'Nach': nach})\n",
    "print(studie)"
   ]
  },
  {
   "cell_type": "code",
   "execution_count": 25,
   "id": "7475ff29-5490-4798-9fa3-5dd10e04c082",
   "metadata": {},
   "outputs": [
    {
     "name": "stdout",
     "output_type": "stream",
     "text": [
      "   Gruppe  Vor  Nach  Unterschied\n",
      "0       K    8     8            0\n",
      "1       K    9     8           -1\n",
      "2       K    8     7           -1\n",
      "3       K    7     8            1\n",
      "4      V1    6     5           -1\n",
      "5      V1    8     6           -2\n",
      "6      V1    8     8            0\n",
      "7      V1    7     8            1\n",
      "8      V2    8     4           -4\n",
      "9      V2    9     5           -4\n",
      "10     V2    8     3           -5\n",
      "11     V2    7     4           -3\n"
     ]
    }
   ],
   "source": [
    "studie['Unterschied'] = studie['Nach'] - studie['Vor']\n",
    "print(studie)"
   ]
  },
  {
   "cell_type": "code",
   "execution_count": 17,
   "id": "d1ee1dd9-ca24-4092-8558-442014f674fc",
   "metadata": {},
   "outputs": [],
   "source": [
    "import matplotlib.pyplot as plt"
   ]
  },
  {
   "cell_type": "code",
   "execution_count": 26,
   "id": "9eee46e1-0726-477e-90a2-be01de5c7ef9",
   "metadata": {},
   "outputs": [
    {
     "data": {
      "text/plain": [
       "<Axes: title={'center': 'Unterschied'}, xlabel='Gruppe'>"
      ]
     },
     "execution_count": 26,
     "metadata": {},
     "output_type": "execute_result"
    },
    {
     "data": {
      "image/png": "[encoded data removed]",
      "text/plain": [
       "<Figure size 640x480 with 1 Axes>"
      ]
     },
     "metadata": {},
     "output_type": "display_data"
    }
   ],
   "source": [
    "studie.boxplot(column='Unterschied', by='Gruppe')"
   ]
  },
  {
   "cell_type": "code",
   "execution_count": 27,
   "id": "d8f354a2-dbf4-4261-8815-d543aeaf0248",
   "metadata": {},
   "outputs": [
    {
     "data": {
      "text/plain": [
       "<matplotlib.lines.Line2D at 0x7f7a151008d0>"
      ]
     },
     "execution_count": 27,
     "metadata": {},
     "output_type": "execute_result"
    },
    {
     "data": {
      "image/png": "[encoded data removed]",
      "text/plain": [
       "<Figure size 640x480 with 1 Axes>"
      ]
     },
     "metadata": {},
     "output_type": "display_data"
    }
   ],
   "source": [
    "studie.boxplot(column='Unterschied', by='Gruppe', grid=False)\n",
    "plt.axhline(y=0, color='k', linestyle='--')"
   ]
  },
  {
   "cell_type": "code",
   "execution_count": 28,
   "id": "6f9b559a-dcb3-409b-8a7b-4d75a3c2693c",
   "metadata": {},
   "outputs": [
    {
     "data": {
      "text/plain": [
       "<matplotlib.lines.Line2D at 0x7f7a15146f50>"
      ]
     },
     "execution_count": 28,
     "metadata": {},
     "output_type": "execute_result"
    },
    {
     "data": {
      "image/png": "[encoded data removed]",
      "text/plain": [
       "<Figure size 640x480 with 1 Axes>"
      ]
     },
     "metadata": {},
     "output_type": "display_data"
    }
   ],
   "source": [
    "studie.plot.scatter('Gruppe', 'Unterschied')\n",
    "plt.axhline(y=0, color='k', linestyle='--')"
   ]
  }
 ],
 "metadata": {
  "kernelspec": {
   "display_name": "Python 3 (ipykernel)",
   "language": "python",
   "name": "python3"
  },
  "language_info": {
   "codemirror_mode": {
    "name": "ipython",
    "version": 3
   },
   "file_extension": ".py",
   "mimetype": "text/x-python",
   "name": "python",
   "nbconvert_exporter": "python",
   "pygments_lexer": "ipython3",
   "version": "3.11.3"
  }
 },
 "nbformat": 4,
 "nbformat_minor": 5
}
